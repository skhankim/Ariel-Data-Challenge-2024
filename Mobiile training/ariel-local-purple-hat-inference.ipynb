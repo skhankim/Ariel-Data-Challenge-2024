{
 "cells": [
  {
   "cell_type": "code",
   "execution_count": 1,
   "id": "1c88565b",
   "metadata": {
    "_cell_guid": "b1076dfc-b9ad-4769-8c92-a6c4dae69d19",
    "_uuid": "8f2839f25d086af736a60e9eeb907d3b93b6e0e5",
    "execution": {
     "iopub.execute_input": "2024-10-05T15:10:36.477398Z",
     "iopub.status.busy": "2024-10-05T15:10:36.477053Z",
     "iopub.status.idle": "2024-10-05T15:10:38.719606Z",
     "shell.execute_reply": "2024-10-05T15:10:38.718645Z"
    },
    "papermill": {
     "duration": 2.250446,
     "end_time": "2024-10-05T15:10:38.722087",
     "exception": false,
     "start_time": "2024-10-05T15:10:36.471641",
     "status": "completed"
    },
    "tags": []
   },
   "outputs": [],
   "source": [
    "import pandas as pd\n",
    "import matplotlib.pyplot as plt\n",
    "import numpy as np\n",
    "import seaborn as sns\n",
    "import scipy.stats\n",
    "from tqdm import tqdm\n",
    "\n",
    "from sklearn.model_selection import cross_val_predict\n",
    "from sklearn.linear_model import Ridge\n",
    "from sklearn.metrics import r2_score, mean_squared_error\n",
    "import itertools"
   ]
  },
  {
   "cell_type": "code",
   "execution_count": 2,
   "id": "c6eafc96",
   "metadata": {
    "execution": {
     "iopub.execute_input": "2024-10-05T15:10:38.730748Z",
     "iopub.status.busy": "2024-10-05T15:10:38.730326Z",
     "iopub.status.idle": "2024-10-05T15:10:38.920377Z",
     "shell.execute_reply": "2024-10-05T15:10:38.919576Z"
    },
    "papermill": {
     "duration": 0.196726,
     "end_time": "2024-10-05T15:10:38.922588",
     "exception": false,
     "start_time": "2024-10-05T15:10:38.725862",
     "status": "completed"
    },
    "tags": []
   },
   "outputs": [],
   "source": [
    "test_adc_info = pd.read_csv('/kaggle/input/ariel-data-challenge-2024/test_adc_info.csv',\n",
    "                           index_col='planet_id')\n",
    "axis_info = pd.read_parquet('/kaggle/input/ariel-data-challenge-2024/axis_info.parquet')"
   ]
  },
  {
   "cell_type": "code",
   "execution_count": 3,
   "id": "0f0b1319",
   "metadata": {
    "execution": {
     "iopub.execute_input": "2024-10-05T15:10:38.931109Z",
     "iopub.status.busy": "2024-10-05T15:10:38.930802Z",
     "iopub.status.idle": "2024-10-05T15:10:50.571893Z",
     "shell.execute_reply": "2024-10-05T15:10:50.570834Z"
    },
    "papermill": {
     "duration": 11.648002,
     "end_time": "2024-10-05T15:10:50.574216",
     "exception": false,
     "start_time": "2024-10-05T15:10:38.926214",
     "status": "completed"
    },
    "tags": []
   },
   "outputs": [
    {
     "name": "stderr",
     "output_type": "stream",
     "text": [
      "100%|██████████| 1/1 [00:05<00:00,  5.92s/it]\n",
      "100%|██████████| 1/1 [00:05<00:00,  5.68s/it]\n"
     ]
    }
   ],
   "source": [
    "def apply_linear_corr(linear_corr,clean_signal):\n",
    "    linear_corr = np.flip(linear_corr, axis=0)\n",
    "    for x, y in itertools.product(\n",
    "                range(clean_signal.shape[1]), range(clean_signal.shape[2])\n",
    "            ):\n",
    "        poli = np.poly1d(linear_corr[:, x, y])\n",
    "        clean_signal[:, x, y] = poli(clean_signal[:, x, y])\n",
    "    return clean_signal\n",
    "\n",
    "def clean_dark(signal, dead, dark, dt):\n",
    "    dark = np.ma.masked_where(dead, dark)\n",
    "    dark = np.tile(dark, (signal.shape[0], 1, 1))\n",
    "\n",
    "    signal -= dark* dt[:, np.newaxis, np.newaxis]\n",
    "    return signal\n",
    "\n",
    "def preproc(dataset, adc_info, sensor, binning = 15):\n",
    "    cut_inf, cut_sup = 39, 321\n",
    "    sensor_sizes_dict = {\"AIRS-CH0\":[[11250, 32, 356], [1, 32, cut_sup-cut_inf]], \"FGS1\":[[135000, 32, 32], [1, 32, 32]]}\n",
    "    binned_dict = {\"AIRS-CH0\":[11250 // binning // 2, 282], \"FGS1\":[135000 // binning // 2]}\n",
    "    linear_corr_dict = {\"AIRS-CH0\":(6, 32, 356), \"FGS1\":(6, 32, 32)}\n",
    "    planet_ids = adc_info.index\n",
    "    \n",
    "    feats = []\n",
    "    for i, planet_id in tqdm(list(enumerate(planet_ids))):\n",
    "        signal = pd.read_parquet(f'/kaggle/input/ariel-data-challenge-2024/{dataset}/{planet_id}/{sensor}_signal.parquet').to_numpy()\n",
    "        dark_frame = pd.read_parquet(f'/kaggle/input/ariel-data-challenge-2024/{dataset}/' + str(planet_id) + '/' + sensor + '_calibration/dark.parquet', engine='pyarrow').to_numpy()\n",
    "        dead_frame = pd.read_parquet(f'/kaggle/input/ariel-data-challenge-2024/{dataset}/' + str(planet_id) + '/' + sensor + '_calibration/dead.parquet', engine='pyarrow').to_numpy()\n",
    "        flat_frame = pd.read_parquet(f'/kaggle/input/ariel-data-challenge-2024/{dataset}/' + str(planet_id) + '/' + sensor + '_calibration/flat.parquet', engine='pyarrow').to_numpy()\n",
    "        linear_corr = pd.read_parquet(f'/kaggle/input/ariel-data-challenge-2024/{dataset}/' + str(planet_id) + '/' + sensor + '_calibration/linear_corr.parquet').values.astype(np.float64).reshape(linear_corr_dict[sensor])\n",
    "\n",
    "        signal = signal.reshape(sensor_sizes_dict[sensor][0]) \n",
    "        gain = adc_info[f'{sensor}_adc_gain'].values[i]\n",
    "        offset = adc_info[f'{sensor}_adc_offset'].values[i]\n",
    "        signal = signal / gain + offset\n",
    "        \n",
    "        if sensor != \"FGS1\":\n",
    "            signal = signal[:, :, cut_inf:cut_sup] #11250 * 32 * 282\n",
    "            dt = axis_info['AIRS-CH0-integration_time'].dropna().values\n",
    "            linear_corr = linear_corr[:, :, cut_inf:cut_sup]\n",
    "            dark_frame = dark_frame[:, cut_inf:cut_sup]\n",
    "            dead_frame = dead_frame[:, cut_inf:cut_sup]\n",
    "            flat_frame = flat_frame[:, cut_inf:cut_sup]\n",
    "        else:\n",
    "            dt = np.ones(len(signal))*0.1 \n",
    "            \n",
    "        linear_corr_signal = apply_linear_corr(linear_corr, signal)\n",
    "        signal = clean_dark(signal, dark_frame, dark_frame, dt)\n",
    "        \n",
    "        flat = flat_frame.reshape(sensor_sizes_dict[sensor][1])\n",
    "        flat[dead_frame.reshape(sensor_sizes_dict[sensor][1])] = np.nan\n",
    "        signal = signal / flat\n",
    "        \n",
    "        if sensor == \"FGS1\":\n",
    "            signal = signal.reshape((sensor_sizes_dict[sensor][0][0], sensor_sizes_dict[sensor][0][1]*sensor_sizes_dict[sensor][0][2]))\n",
    "        \n",
    "        mean_signal = np.nanmean(signal, axis=1) # mean over the 32*32(FGS1) or 32(CH0) pixels\n",
    "        cds_signal = (mean_signal[1::2] - mean_signal[0::2])\n",
    "        binned = np.zeros((binned_dict[sensor]))\n",
    "        for j in range(cds_signal.shape[0] // binning):\n",
    "            binned[j] = cds_signal[j*binning:j*binning+binning].mean(axis=0)\n",
    "                   \n",
    "        if sensor == \"FGS1\":\n",
    "            binned = binned.reshape((binned.shape[0],1))\n",
    "            \n",
    "        feats.append(binned)\n",
    "        \n",
    "    return np.stack(feats)\n",
    "    \n",
    "pre_test = np.concatenate([preproc('test', test_adc_info, \"FGS1\", 15*12), preproc('test', test_adc_info, \"AIRS-CH0\", 15)], axis=2)"
   ]
  },
  {
   "cell_type": "code",
   "execution_count": 4,
   "id": "29b3de9b",
   "metadata": {
    "execution": {
     "iopub.execute_input": "2024-10-05T15:10:50.584022Z",
     "iopub.status.busy": "2024-10-05T15:10:50.583404Z",
     "iopub.status.idle": "2024-10-05T15:10:50.594221Z",
     "shell.execute_reply": "2024-10-05T15:10:50.593583Z"
    },
    "papermill": {
     "duration": 0.0177,
     "end_time": "2024-10-05T15:10:50.596077",
     "exception": false,
     "start_time": "2024-10-05T15:10:50.578377",
     "status": "completed"
    },
    "tags": []
   },
   "outputs": [],
   "source": [
    "def phase_detector(signal):\n",
    "    phase1, phase2 = None, None\n",
    "    best_drop = 0\n",
    "    for i in range(50,150):        \n",
    "        t1 = signal[i:i+20].max() - signal[i:i+20].min()\n",
    "        if t1 > best_drop:\n",
    "            phase1 = i+20+5\n",
    "            best_drop = t1\n",
    "    \n",
    "    best_drop = 0\n",
    "    for i in range(200,300):\n",
    "        t1 = signal[i:i+20].max() - signal[i:i+20].min()\n",
    "        if t1 > best_drop:\n",
    "            phase2 = i-5\n",
    "            best_drop = t1\n",
    "    \n",
    "    return phase1, phase2\n",
    "\n",
    "test = pre_test.copy()\n",
    "for i in range(len(test_adc_info)):\n",
    "    p1,p2 = phase_detector(pre_test[i,:,1:].mean(axis=1))\n",
    "    test[i] = (test[i] - pre_test[i,p1:p2].mean(axis=0)) / pre_test[i,list(range(p1-40)) + list(range(p2+40,375))].mean(axis=0) * 1000.0"
   ]
  },
  {
   "cell_type": "code",
   "execution_count": 5,
   "id": "0c0aedaf",
   "metadata": {
    "execution": {
     "iopub.execute_input": "2024-10-05T15:10:50.605446Z",
     "iopub.status.busy": "2024-10-05T15:10:50.605189Z",
     "iopub.status.idle": "2024-10-05T15:10:55.556802Z",
     "shell.execute_reply": "2024-10-05T15:10:55.556035Z"
    },
    "papermill": {
     "duration": 4.958791,
     "end_time": "2024-10-05T15:10:55.559040",
     "exception": false,
     "start_time": "2024-10-05T15:10:50.600249",
     "status": "completed"
    },
    "tags": []
   },
   "outputs": [],
   "source": [
    "import torch\n",
    "import torch.nn as nn\n",
    "import torch.nn.functional as F\n",
    "from fastprogress import master_bar, progress_bar\n",
    "from torch.optim import Adam\n",
    "from torch.optim.lr_scheduler import CosineAnnealingLR\n",
    "from torch.utils.data import Dataset, DataLoader\n",
    "from torchvision.transforms import transforms\n",
    "import torchvision.models as models\n",
    "from functools import partial\n",
    "\n",
    "def create_model_mnet2():\n",
    "    model = models.mobilenet_v3_small(dropout=0.0, norm_layer = nn.Identity)\n",
    "    model.features[0][0] = nn.Conv2d(3, 16, kernel_size=(3, 3), stride=(2, 2), padding=(1, 1), bias=False)\n",
    "    model.classifier[3] = nn.Linear(in_features=1024, out_features=283*3, bias=True)\n",
    "    return model\n",
    "\n",
    "class ImpModel(torch.nn.Module):\n",
    "    def __init__(self):\n",
    "        super(ImpModel, self).__init__()\n",
    "\n",
    "        self.filter = nn.Sequential(\n",
    "            nn.Conv2d(1, 3, kernel_size=(3,1), stride = (2,1), bias=False),\n",
    "            nn.LeakyReLU()\n",
    "        )\n",
    "        self.model_1d = create_model_mnet2()\n",
    "        \n",
    "    def forward(self, x):\n",
    "        x = self.filter(x)\n",
    "        x = self.model_1d(x)\n",
    "        return x"
   ]
  },
  {
   "cell_type": "code",
   "execution_count": 6,
   "id": "eedeabfb",
   "metadata": {
    "execution": {
     "iopub.execute_input": "2024-10-05T15:10:55.569166Z",
     "iopub.status.busy": "2024-10-05T15:10:55.568724Z",
     "iopub.status.idle": "2024-10-05T15:10:57.632913Z",
     "shell.execute_reply": "2024-10-05T15:10:57.632044Z"
    },
    "papermill": {
     "duration": 2.071646,
     "end_time": "2024-10-05T15:10:57.635159",
     "exception": false,
     "start_time": "2024-10-05T15:10:55.563513",
     "status": "completed"
    },
    "tags": []
   },
   "outputs": [],
   "source": [
    "device = torch.device('cuda' if torch.cuda.is_available() else 'cpu')\n",
    "preds = np.zeros((len(test), 283))\n",
    "sigmas = np.zeros((len(test), 283))\n",
    "\n",
    "val_dataset = torch.utils.data.TensorDataset(torch.from_numpy(test).unsqueeze(1).float(), torch.zeros(test.shape).float())\n",
    "validation_loader = torch.utils.data.DataLoader(val_dataset, batch_size=32, shuffle=False)\n",
    "\n",
    "paths = [\n",
    "    '/kaggle/input/ariel-purple-hat-bias-false/purple_hat_0',\n",
    "    '/kaggle/input/ariel-purple-hat-bias-false/purple_hat_1',\n",
    "    '/kaggle/input/ariel-purple-hat-bias-false/purple_hat_2',\n",
    "    '/kaggle/input/ariel-purple-hat-bias-false/purple_hat_3',\n",
    "    '/kaggle/input/ariel-purple-hat-bias-false/purple_hat_4',\n",
    "]\n",
    "for i in range(5):\n",
    "    model = ImpModel().to(device)\n",
    "    model.load_state_dict(torch.load(paths[i]))\n",
    "    model.eval()\n",
    "        \n",
    "    v_offset = 0\n",
    "    with torch.no_grad():        \n",
    "        for j, vdata in enumerate(validation_loader):\n",
    "            vinputs, vlabels = vdata\n",
    "            voutputs = model(vinputs.cuda()).reshape((vinputs.shape[0], 283, 3))\n",
    "            preds[v_offset:v_offset+len(vinputs)] += voutputs[:,:,1].detach().cpu().numpy() * 0.217\n",
    "            sigmas[v_offset:v_offset+len(vinputs)] += (voutputs[:,:,2].detach().cpu().numpy() - voutputs[:,:,0].detach().cpu().numpy()) * 0.05\n",
    "            v_offset += len(vinputs)\n",
    "            \n",
    "    del model"
   ]
  },
  {
   "cell_type": "code",
   "execution_count": 7,
   "id": "ffc7ac1a",
   "metadata": {
    "execution": {
     "iopub.execute_input": "2024-10-05T15:10:57.645854Z",
     "iopub.status.busy": "2024-10-05T15:10:57.645554Z",
     "iopub.status.idle": "2024-10-05T15:10:57.677126Z",
     "shell.execute_reply": "2024-10-05T15:10:57.676357Z"
    },
    "papermill": {
     "duration": 0.038969,
     "end_time": "2024-10-05T15:10:57.679143",
     "exception": false,
     "start_time": "2024-10-05T15:10:57.640174",
     "status": "completed"
    },
    "tags": []
   },
   "outputs": [],
   "source": [
    "ss = pd.read_csv('/kaggle/input/ariel-data-challenge-2024/sample_submission.csv')\n",
    "submission = pd.DataFrame(np.concatenate([preds.clip(0),(sigmas.clip(0)*2.0).clip(1e-5)], axis=1), columns=ss.columns[1:])\n",
    "submission.index = test_adc_info.index\n",
    "submission.to_csv('submission.csv')"
   ]
  },
  {
   "cell_type": "code",
   "execution_count": 8,
   "id": "e20de30a",
   "metadata": {
    "execution": {
     "iopub.execute_input": "2024-10-05T15:10:57.688469Z",
     "iopub.status.busy": "2024-10-05T15:10:57.687873Z",
     "iopub.status.idle": "2024-10-05T15:10:57.711397Z",
     "shell.execute_reply": "2024-10-05T15:10:57.710526Z"
    },
    "papermill": {
     "duration": 0.030248,
     "end_time": "2024-10-05T15:10:57.713418",
     "exception": false,
     "start_time": "2024-10-05T15:10:57.683170",
     "status": "completed"
    },
    "tags": []
   },
   "outputs": [
    {
     "data": {
      "text/html": [
       "<div>\n",
       "<style scoped>\n",
       "    .dataframe tbody tr th:only-of-type {\n",
       "        vertical-align: middle;\n",
       "    }\n",
       "\n",
       "    .dataframe tbody tr th {\n",
       "        vertical-align: top;\n",
       "    }\n",
       "\n",
       "    .dataframe thead th {\n",
       "        text-align: right;\n",
       "    }\n",
       "</style>\n",
       "<table border=\"1\" class=\"dataframe\">\n",
       "  <thead>\n",
       "    <tr style=\"text-align: right;\">\n",
       "      <th></th>\n",
       "      <th>wl_1</th>\n",
       "      <th>wl_2</th>\n",
       "      <th>wl_3</th>\n",
       "      <th>wl_4</th>\n",
       "      <th>wl_5</th>\n",
       "      <th>wl_6</th>\n",
       "      <th>wl_7</th>\n",
       "      <th>wl_8</th>\n",
       "      <th>wl_9</th>\n",
       "      <th>wl_10</th>\n",
       "      <th>...</th>\n",
       "      <th>sigma_274</th>\n",
       "      <th>sigma_275</th>\n",
       "      <th>sigma_276</th>\n",
       "      <th>sigma_277</th>\n",
       "      <th>sigma_278</th>\n",
       "      <th>sigma_279</th>\n",
       "      <th>sigma_280</th>\n",
       "      <th>sigma_281</th>\n",
       "      <th>sigma_282</th>\n",
       "      <th>sigma_283</th>\n",
       "    </tr>\n",
       "    <tr>\n",
       "      <th>planet_id</th>\n",
       "      <th></th>\n",
       "      <th></th>\n",
       "      <th></th>\n",
       "      <th></th>\n",
       "      <th></th>\n",
       "      <th></th>\n",
       "      <th></th>\n",
       "      <th></th>\n",
       "      <th></th>\n",
       "      <th></th>\n",
       "      <th></th>\n",
       "      <th></th>\n",
       "      <th></th>\n",
       "      <th></th>\n",
       "      <th></th>\n",
       "      <th></th>\n",
       "      <th></th>\n",
       "      <th></th>\n",
       "      <th></th>\n",
       "      <th></th>\n",
       "      <th></th>\n",
       "    </tr>\n",
       "  </thead>\n",
       "  <tbody>\n",
       "    <tr>\n",
       "      <th>499191466</th>\n",
       "      <td>0.002714</td>\n",
       "      <td>0.002738</td>\n",
       "      <td>0.002735</td>\n",
       "      <td>0.00273</td>\n",
       "      <td>0.002735</td>\n",
       "      <td>0.002728</td>\n",
       "      <td>0.002727</td>\n",
       "      <td>0.002731</td>\n",
       "      <td>0.002728</td>\n",
       "      <td>0.002725</td>\n",
       "      <td>...</td>\n",
       "      <td>0.000419</td>\n",
       "      <td>0.000421</td>\n",
       "      <td>0.000421</td>\n",
       "      <td>0.000422</td>\n",
       "      <td>0.000422</td>\n",
       "      <td>0.000421</td>\n",
       "      <td>0.000421</td>\n",
       "      <td>0.000421</td>\n",
       "      <td>0.000421</td>\n",
       "      <td>0.000422</td>\n",
       "    </tr>\n",
       "  </tbody>\n",
       "</table>\n",
       "<p>1 rows × 566 columns</p>\n",
       "</div>"
      ],
      "text/plain": [
       "               wl_1      wl_2      wl_3     wl_4      wl_5      wl_6  \\\n",
       "planet_id                                                              \n",
       "499191466  0.002714  0.002738  0.002735  0.00273  0.002735  0.002728   \n",
       "\n",
       "               wl_7      wl_8      wl_9     wl_10  ...  sigma_274  sigma_275  \\\n",
       "planet_id                                          ...                         \n",
       "499191466  0.002727  0.002731  0.002728  0.002725  ...   0.000419   0.000421   \n",
       "\n",
       "           sigma_276  sigma_277  sigma_278  sigma_279  sigma_280  sigma_281  \\\n",
       "planet_id                                                                     \n",
       "499191466   0.000421   0.000422   0.000422   0.000421   0.000421   0.000421   \n",
       "\n",
       "           sigma_282  sigma_283  \n",
       "planet_id                        \n",
       "499191466   0.000421   0.000422  \n",
       "\n",
       "[1 rows x 566 columns]"
      ]
     },
     "execution_count": 8,
     "metadata": {},
     "output_type": "execute_result"
    }
   ],
   "source": [
    "submission"
   ]
  },
  {
   "cell_type": "code",
   "execution_count": null,
   "id": "fe5ffddd",
   "metadata": {
    "papermill": {
     "duration": 0.004032,
     "end_time": "2024-10-05T15:10:57.721673",
     "exception": false,
     "start_time": "2024-10-05T15:10:57.717641",
     "status": "completed"
    },
    "tags": []
   },
   "outputs": [],
   "source": []
  }
 ],
 "metadata": {
  "kaggle": {
   "accelerator": "gpu",
   "dataSources": [
    {
     "databundleVersionId": 9188054,
     "sourceId": 70367,
     "sourceType": "competition"
    },
    {
     "datasetId": 5793001,
     "sourceId": 9515741,
     "sourceType": "datasetVersion"
    },
    {
     "datasetId": 5805735,
     "sourceId": 9532785,
     "sourceType": "datasetVersion"
    }
   ],
   "dockerImageVersionId": 30747,
   "isGpuEnabled": true,
   "isInternetEnabled": false,
   "language": "python",
   "sourceType": "notebook"
  },
  "kernelspec": {
   "display_name": "Python 3",
   "language": "python",
   "name": "python3"
  },
  "language_info": {
   "codemirror_mode": {
    "name": "ipython",
    "version": 3
   },
   "file_extension": ".py",
   "mimetype": "text/x-python",
   "name": "python",
   "nbconvert_exporter": "python",
   "pygments_lexer": "ipython3",
   "version": "3.10.13"
  },
  "papermill": {
   "default_parameters": {},
   "duration": 25.445296,
   "end_time": "2024-10-05T15:10:59.146942",
   "environment_variables": {},
   "exception": null,
   "input_path": "__notebook__.ipynb",
   "output_path": "__notebook__.ipynb",
   "parameters": {},
   "start_time": "2024-10-05T15:10:33.701646",
   "version": "2.5.0"
  }
 },
 "nbformat": 4,
 "nbformat_minor": 5
}
