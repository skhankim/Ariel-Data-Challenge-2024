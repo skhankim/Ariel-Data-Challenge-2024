{
 "cells": [
  {
   "cell_type": "code",
   "execution_count": 1,
   "id": "773f07e5",
   "metadata": {
    "execution": {
     "iopub.execute_input": "2024-10-19T07:04:44.313571Z",
     "iopub.status.busy": "2024-10-19T07:04:44.313302Z",
     "iopub.status.idle": "2024-10-19T07:04:46.310534Z",
     "shell.execute_reply": "2024-10-19T07:04:46.309739Z"
    },
    "papermill": {
     "duration": 2.005672,
     "end_time": "2024-10-19T07:04:46.312987",
     "exception": false,
     "start_time": "2024-10-19T07:04:44.307315",
     "status": "completed"
    },
    "tags": []
   },
   "outputs": [],
   "source": [
    "import pandas as pd\n",
    "import matplotlib.pyplot as plt\n",
    "import numpy as np\n",
    "import scipy.stats\n",
    "from tqdm import tqdm\n",
    "import random, os\n",
    "import itertools\n",
    "from astropy.stats import sigma_clip"
   ]
  },
  {
   "cell_type": "code",
   "execution_count": 2,
   "id": "4ce7c886",
   "metadata": {
    "execution": {
     "iopub.execute_input": "2024-10-19T07:04:46.323225Z",
     "iopub.status.busy": "2024-10-19T07:04:46.322848Z",
     "iopub.status.idle": "2024-10-19T07:04:46.500006Z",
     "shell.execute_reply": "2024-10-19T07:04:46.499241Z"
    },
    "papermill": {
     "duration": 0.184715,
     "end_time": "2024-10-19T07:04:46.502289",
     "exception": false,
     "start_time": "2024-10-19T07:04:46.317574",
     "status": "completed"
    },
    "tags": []
   },
   "outputs": [],
   "source": [
    "test_adc_info = pd.read_csv('/kaggle/input/ariel-data-challenge-2024/test_adc_info.csv',\n",
    "                           index_col='planet_id')\n",
    "axis_info = pd.read_parquet('/kaggle/input/ariel-data-challenge-2024/axis_info.parquet')"
   ]
  },
  {
   "cell_type": "code",
   "execution_count": 3,
   "id": "0bc85afc",
   "metadata": {
    "execution": {
     "iopub.execute_input": "2024-10-19T07:04:46.512024Z",
     "iopub.status.busy": "2024-10-19T07:04:46.511670Z",
     "iopub.status.idle": "2024-10-19T07:04:46.532770Z",
     "shell.execute_reply": "2024-10-19T07:04:46.532064Z"
    },
    "papermill": {
     "duration": 0.028228,
     "end_time": "2024-10-19T07:04:46.534739",
     "exception": false,
     "start_time": "2024-10-19T07:04:46.506511",
     "status": "completed"
    },
    "tags": []
   },
   "outputs": [],
   "source": [
    "def apply_linear_corr(linear_corr,clean_signal):\n",
    "    linear_corr = np.flip(linear_corr, axis=0)\n",
    "    for x, y in itertools.product(\n",
    "                range(clean_signal.shape[1]), range(clean_signal.shape[2])\n",
    "            ):\n",
    "        poli = np.poly1d(linear_corr[:, x, y])\n",
    "        clean_signal[:, x, y] = poli(clean_signal[:, x, y])\n",
    "    return clean_signal\n",
    "\n",
    "def clean_dark(signal, dark, dt):\n",
    "    dark = np.tile(dark, (signal.shape[0], 1, 1))\n",
    "    signal -= dark* dt[:, np.newaxis, np.newaxis]\n",
    "    return signal\n",
    "\n",
    "def preproc(dataset, adc_info, sensor, binning = 15):\n",
    "    cut_inf, cut_sup = 39, 321\n",
    "    sensor_sizes_dict = {\"AIRS-CH0\":[[11250, 32, 356], [1, 32, cut_sup-cut_inf]], \"FGS1\":[[135000, 32, 32], [1, 32, 32]]}\n",
    "    binned_dict = {\"AIRS-CH0\":[11250 // binning // 2, 282], \"FGS1\":[135000 // binning // 2]}\n",
    "    linear_corr_dict = {\"AIRS-CH0\":(6, 32, 356), \"FGS1\":(6, 32, 32)}\n",
    "    planet_ids = adc_info.index\n",
    "    \n",
    "    feats = []\n",
    "    for i, planet_id in tqdm(list(enumerate(planet_ids))):\n",
    "        signal = pd.read_parquet(f'/kaggle/input/ariel-data-challenge-2024/{dataset}/{planet_id}/{sensor}_signal.parquet').to_numpy()\n",
    "        dark_frame = pd.read_parquet(f'/kaggle/input/ariel-data-challenge-2024/{dataset}/' + str(planet_id) + '/' + sensor + '_calibration/dark.parquet', engine='pyarrow').to_numpy()\n",
    "        dead_frame = pd.read_parquet(f'/kaggle/input/ariel-data-challenge-2024/{dataset}/' + str(planet_id) + '/' + sensor + '_calibration/dead.parquet', engine='pyarrow').to_numpy()\n",
    "        flat_frame = pd.read_parquet(f'/kaggle/input/ariel-data-challenge-2024/{dataset}/' + str(planet_id) + '/' + sensor + '_calibration/flat.parquet', engine='pyarrow').to_numpy()\n",
    "        linear_corr = pd.read_parquet(f'/kaggle/input/ariel-data-challenge-2024/{dataset}/' + str(planet_id) + '/' + sensor + '_calibration/linear_corr.parquet').values.astype(np.float64).reshape(linear_corr_dict[sensor])\n",
    "\n",
    "        signal = signal.reshape(sensor_sizes_dict[sensor][0]) \n",
    "        gain = adc_info[f'{sensor}_adc_gain'].values[i]\n",
    "        offset = adc_info[f'{sensor}_adc_offset'].values[i]\n",
    "        signal = signal / gain + offset\n",
    "        \n",
    "        hot = sigma_clip(\n",
    "            dark_frame, sigma=5, maxiters=5\n",
    "        ).mask\n",
    "        \n",
    "        if sensor != \"FGS1\":\n",
    "            signal = signal[:, :, cut_inf:cut_sup] #11250 * 32 * 282\n",
    "            #dt = axis_info['AIRS-CH0-integration_time'].dropna().values\n",
    "            dt = np.ones(len(signal))*0.1 \n",
    "            dt[1::2] += 4.5 #@bilzard idea\n",
    "            linear_corr = linear_corr[:, :, cut_inf:cut_sup]\n",
    "            dark_frame = dark_frame[:, cut_inf:cut_sup]\n",
    "            dead_frame = dead_frame[:, cut_inf:cut_sup]\n",
    "            flat_frame = flat_frame[:, cut_inf:cut_sup]\n",
    "            hot = hot[:, cut_inf:cut_sup]\n",
    "        else:\n",
    "            dt = np.ones(len(signal))*0.1\n",
    "            dt[1::2] += 0.1\n",
    "            \n",
    "        signal = signal.clip(0) #@graySnow idea\n",
    "        linear_corr_signal = apply_linear_corr(linear_corr, signal)\n",
    "        signal = clean_dark(linear_corr_signal, dark_frame, dt)\n",
    "        \n",
    "        flat = flat_frame.reshape(sensor_sizes_dict[sensor][1])\n",
    "        flat[dead_frame.reshape(sensor_sizes_dict[sensor][1])] = np.nan\n",
    "        flat[hot.reshape(sensor_sizes_dict[sensor][1])] = np.nan\n",
    "        signal = signal / flat\n",
    "        \n",
    "        if sensor == \"FGS1\":\n",
    "            signal = signal.reshape((sensor_sizes_dict[sensor][0][0], sensor_sizes_dict[sensor][0][1]*sensor_sizes_dict[sensor][0][2]))\n",
    "        \n",
    "        mean_signal = np.nanmean(signal, axis=1) # mean over the 32*32(FGS1) or 32(CH0) pixels\n",
    "        cds_signal = (mean_signal[1::2] - mean_signal[0::2])\n",
    "        \n",
    "        binned = np.zeros((binned_dict[sensor]))\n",
    "        for j in range(cds_signal.shape[0] // binning):\n",
    "            binned[j] = cds_signal[j*binning:j*binning+binning].mean(axis=0)\n",
    "                   \n",
    "        if sensor == \"FGS1\":\n",
    "            binned = binned.reshape((binned.shape[0],1))\n",
    "            \n",
    "        feats.append(binned)\n",
    "        \n",
    "    return np.stack(feats)"
   ]
  },
  {
   "cell_type": "code",
   "execution_count": 4,
   "id": "197ae08d",
   "metadata": {
    "execution": {
     "iopub.execute_input": "2024-10-19T07:04:46.543975Z",
     "iopub.status.busy": "2024-10-19T07:04:46.543719Z",
     "iopub.status.idle": "2024-10-19T07:04:58.746624Z",
     "shell.execute_reply": "2024-10-19T07:04:58.745490Z"
    },
    "papermill": {
     "duration": 12.209807,
     "end_time": "2024-10-19T07:04:58.748579",
     "exception": false,
     "start_time": "2024-10-19T07:04:46.538772",
     "status": "completed"
    },
    "tags": []
   },
   "outputs": [
    {
     "name": "stderr",
     "output_type": "stream",
     "text": [
      "100%|██████████| 1/1 [00:06<00:00,  6.31s/it]\n",
      "100%|██████████| 1/1 [00:05<00:00,  5.87s/it]\n"
     ]
    }
   ],
   "source": [
    "pre_test_FGS = preproc('test', test_adc_info, \"FGS1\", 30*6)\n",
    "pre_test_AIRS = preproc('test', test_adc_info, \"AIRS-CH0\", 15)"
   ]
  },
  {
   "cell_type": "code",
   "execution_count": 5,
   "id": "d06bb5b1",
   "metadata": {
    "execution": {
     "iopub.execute_input": "2024-10-19T07:04:58.759485Z",
     "iopub.status.busy": "2024-10-19T07:04:58.759224Z",
     "iopub.status.idle": "2024-10-19T07:04:58.763738Z",
     "shell.execute_reply": "2024-10-19T07:04:58.762814Z"
    },
    "papermill": {
     "duration": 0.012025,
     "end_time": "2024-10-19T07:04:58.765596",
     "exception": false,
     "start_time": "2024-10-19T07:04:58.753571",
     "status": "completed"
    },
    "tags": []
   },
   "outputs": [],
   "source": [
    "pre_test = np.concatenate([pre_test_FGS, pre_test_AIRS], axis=2)\n",
    "pre_test = pre_test[:, :, ::-1]"
   ]
  },
  {
   "cell_type": "code",
   "execution_count": 6,
   "id": "6d27a24e",
   "metadata": {
    "execution": {
     "iopub.execute_input": "2024-10-19T07:04:58.776545Z",
     "iopub.status.busy": "2024-10-19T07:04:58.775906Z",
     "iopub.status.idle": "2024-10-19T07:04:58.782353Z",
     "shell.execute_reply": "2024-10-19T07:04:58.781585Z"
    },
    "papermill": {
     "duration": 0.01398,
     "end_time": "2024-10-19T07:04:58.784273",
     "exception": false,
     "start_time": "2024-10-19T07:04:58.770293",
     "status": "completed"
    },
    "tags": []
   },
   "outputs": [],
   "source": [
    "def phase_detector(signal):\n",
    "    phase1, phase2 = None, None\n",
    "    best_drop = 0\n",
    "    for i in range(50,150):\n",
    "        t1 = signal[i:i+20].max() - signal[i:i+20].min()\n",
    "        if t1 > best_drop:\n",
    "            phase1 = i+20+5\n",
    "            best_drop = t1\n",
    "    \n",
    "    best_drop = 0\n",
    "    for i in range(200,300):\n",
    "        t1 = signal[i:i+20].max() - signal[i:i+20].min()\n",
    "        if t1 > best_drop:\n",
    "            phase2 = i-5\n",
    "            best_drop = t1\n",
    "    \n",
    "    return phase1, phase2"
   ]
  },
  {
   "cell_type": "code",
   "execution_count": 7,
   "id": "d71b0e2c",
   "metadata": {
    "execution": {
     "iopub.execute_input": "2024-10-19T07:04:58.795066Z",
     "iopub.status.busy": "2024-10-19T07:04:58.794435Z",
     "iopub.status.idle": "2024-10-19T07:04:58.803616Z",
     "shell.execute_reply": "2024-10-19T07:04:58.802875Z"
    },
    "papermill": {
     "duration": 0.016636,
     "end_time": "2024-10-19T07:04:58.805584",
     "exception": false,
     "start_time": "2024-10-19T07:04:58.788948",
     "status": "completed"
    },
    "tags": []
   },
   "outputs": [],
   "source": [
    "test = pre_test.copy()\n",
    "in_transit = []\n",
    "out_of_transit= []\n",
    "\n",
    "for i in range(len(test_adc_info)):\n",
    "    p1,p2 = phase_detector(pre_test[i,:,1:].mean(axis=1))\n",
    "    test[i] = (test[i] - pre_test[i,p1:p2].mean(axis=0)) / pre_test[i,list(range(p1-40)) + list(range(p2+40,375))].mean(axis=0) * 1000.0\n",
    "    in_transit.append(test[i,p1:p2,:])\n",
    "    out_of_transit.append([test[i,:p1, :]]+[test[i, p2:, :]])"
   ]
  },
  {
   "cell_type": "code",
   "execution_count": 8,
   "id": "f87300e4",
   "metadata": {
    "execution": {
     "iopub.execute_input": "2024-10-19T07:04:58.816054Z",
     "iopub.status.busy": "2024-10-19T07:04:58.815819Z",
     "iopub.status.idle": "2024-10-19T07:04:58.830942Z",
     "shell.execute_reply": "2024-10-19T07:04:58.830125Z"
    },
    "papermill": {
     "duration": 0.022721,
     "end_time": "2024-10-19T07:04:58.832907",
     "exception": false,
     "start_time": "2024-10-19T07:04:58.810186",
     "status": "completed"
    },
    "tags": []
   },
   "outputs": [],
   "source": [
    "all_predictions = []\n",
    "for i in range(len(test_adc_info)):\n",
    "    estimated_points = np.zeros(283,)\n",
    "    for j in range(283):\n",
    "        mean_entire = (np.mean(out_of_transit[i][0][:,j]) +\n",
    "            np.mean(out_of_transit[i][1][:,j]) +\n",
    "            np.mean(in_transit[i][:,j])) / 3\n",
    "        estimated_points[j] = mean_entire\n",
    "    estimated_mean = np.mean(estimated_points/1000)/0.598\n",
    "    all_predictions.append(estimated_mean)"
   ]
  },
  {
   "cell_type": "code",
   "execution_count": 9,
   "id": "f209b623",
   "metadata": {
    "execution": {
     "iopub.execute_input": "2024-10-19T07:04:58.843282Z",
     "iopub.status.busy": "2024-10-19T07:04:58.843024Z",
     "iopub.status.idle": "2024-10-19T07:04:58.847186Z",
     "shell.execute_reply": "2024-10-19T07:04:58.846382Z"
    },
    "papermill": {
     "duration": 0.01134,
     "end_time": "2024-10-19T07:04:58.848934",
     "exception": false,
     "start_time": "2024-10-19T07:04:58.837594",
     "status": "completed"
    },
    "tags": []
   },
   "outputs": [],
   "source": [
    "test_preds = np.repeat(np.array(all_predictions), 283).reshape((len(all_predictions), 283))\n",
    "test_sigmas = np.ones_like(test_preds) * 0.000249"
   ]
  },
  {
   "cell_type": "markdown",
   "id": "c45daf40",
   "metadata": {
    "papermill": {
     "duration": 0.004379,
     "end_time": "2024-10-19T07:04:58.858191",
     "exception": false,
     "start_time": "2024-10-19T07:04:58.853812",
     "status": "completed"
    },
    "tags": []
   },
   "source": [
    "### Making submission"
   ]
  },
  {
   "cell_type": "code",
   "execution_count": 10,
   "id": "abe1bf2c",
   "metadata": {
    "execution": {
     "iopub.execute_input": "2024-10-19T07:04:58.868835Z",
     "iopub.status.busy": "2024-10-19T07:04:58.868308Z",
     "iopub.status.idle": "2024-10-19T07:04:58.898392Z",
     "shell.execute_reply": "2024-10-19T07:04:58.897729Z"
    },
    "papermill": {
     "duration": 0.037419,
     "end_time": "2024-10-19T07:04:58.900276",
     "exception": false,
     "start_time": "2024-10-19T07:04:58.862857",
     "status": "completed"
    },
    "tags": []
   },
   "outputs": [],
   "source": [
    "ss = pd.read_csv('/kaggle/input/ariel-data-challenge-2024/sample_submission.csv')\n",
    "\n",
    "preds = test_preds.clip(0)\n",
    "sigmas = test_sigmas\n",
    "submission = pd.DataFrame(np.concatenate([preds,sigmas], axis=1), columns=ss.columns[1:])\n",
    "submission.index = test_adc_info.index\n",
    "submission.to_csv('submission.csv')"
   ]
  },
  {
   "cell_type": "code",
   "execution_count": 11,
   "id": "0af0e576",
   "metadata": {
    "execution": {
     "iopub.execute_input": "2024-10-19T07:04:58.910819Z",
     "iopub.status.busy": "2024-10-19T07:04:58.910549Z",
     "iopub.status.idle": "2024-10-19T07:04:58.932865Z",
     "shell.execute_reply": "2024-10-19T07:04:58.931941Z"
    },
    "papermill": {
     "duration": 0.029546,
     "end_time": "2024-10-19T07:04:58.934723",
     "exception": false,
     "start_time": "2024-10-19T07:04:58.905177",
     "status": "completed"
    },
    "tags": []
   },
   "outputs": [
    {
     "data": {
      "text/html": [
       "<div>\n",
       "<style scoped>\n",
       "    .dataframe tbody tr th:only-of-type {\n",
       "        vertical-align: middle;\n",
       "    }\n",
       "\n",
       "    .dataframe tbody tr th {\n",
       "        vertical-align: top;\n",
       "    }\n",
       "\n",
       "    .dataframe thead th {\n",
       "        text-align: right;\n",
       "    }\n",
       "</style>\n",
       "<table border=\"1\" class=\"dataframe\">\n",
       "  <thead>\n",
       "    <tr style=\"text-align: right;\">\n",
       "      <th></th>\n",
       "      <th>wl_1</th>\n",
       "      <th>wl_2</th>\n",
       "      <th>wl_3</th>\n",
       "      <th>wl_4</th>\n",
       "      <th>wl_5</th>\n",
       "      <th>wl_6</th>\n",
       "      <th>wl_7</th>\n",
       "      <th>wl_8</th>\n",
       "      <th>wl_9</th>\n",
       "      <th>wl_10</th>\n",
       "      <th>...</th>\n",
       "      <th>sigma_274</th>\n",
       "      <th>sigma_275</th>\n",
       "      <th>sigma_276</th>\n",
       "      <th>sigma_277</th>\n",
       "      <th>sigma_278</th>\n",
       "      <th>sigma_279</th>\n",
       "      <th>sigma_280</th>\n",
       "      <th>sigma_281</th>\n",
       "      <th>sigma_282</th>\n",
       "      <th>sigma_283</th>\n",
       "    </tr>\n",
       "    <tr>\n",
       "      <th>planet_id</th>\n",
       "      <th></th>\n",
       "      <th></th>\n",
       "      <th></th>\n",
       "      <th></th>\n",
       "      <th></th>\n",
       "      <th></th>\n",
       "      <th></th>\n",
       "      <th></th>\n",
       "      <th></th>\n",
       "      <th></th>\n",
       "      <th></th>\n",
       "      <th></th>\n",
       "      <th></th>\n",
       "      <th></th>\n",
       "      <th></th>\n",
       "      <th></th>\n",
       "      <th></th>\n",
       "      <th></th>\n",
       "      <th></th>\n",
       "      <th></th>\n",
       "      <th></th>\n",
       "    </tr>\n",
       "  </thead>\n",
       "  <tbody>\n",
       "    <tr>\n",
       "      <th>499191466</th>\n",
       "      <td>0.002656</td>\n",
       "      <td>0.002656</td>\n",
       "      <td>0.002656</td>\n",
       "      <td>0.002656</td>\n",
       "      <td>0.002656</td>\n",
       "      <td>0.002656</td>\n",
       "      <td>0.002656</td>\n",
       "      <td>0.002656</td>\n",
       "      <td>0.002656</td>\n",
       "      <td>0.002656</td>\n",
       "      <td>...</td>\n",
       "      <td>0.000249</td>\n",
       "      <td>0.000249</td>\n",
       "      <td>0.000249</td>\n",
       "      <td>0.000249</td>\n",
       "      <td>0.000249</td>\n",
       "      <td>0.000249</td>\n",
       "      <td>0.000249</td>\n",
       "      <td>0.000249</td>\n",
       "      <td>0.000249</td>\n",
       "      <td>0.000249</td>\n",
       "    </tr>\n",
       "  </tbody>\n",
       "</table>\n",
       "<p>1 rows × 566 columns</p>\n",
       "</div>"
      ],
      "text/plain": [
       "               wl_1      wl_2      wl_3      wl_4      wl_5      wl_6  \\\n",
       "planet_id                                                               \n",
       "499191466  0.002656  0.002656  0.002656  0.002656  0.002656  0.002656   \n",
       "\n",
       "               wl_7      wl_8      wl_9     wl_10  ...  sigma_274  sigma_275  \\\n",
       "planet_id                                          ...                         \n",
       "499191466  0.002656  0.002656  0.002656  0.002656  ...   0.000249   0.000249   \n",
       "\n",
       "           sigma_276  sigma_277  sigma_278  sigma_279  sigma_280  sigma_281  \\\n",
       "planet_id                                                                     \n",
       "499191466   0.000249   0.000249   0.000249   0.000249   0.000249   0.000249   \n",
       "\n",
       "           sigma_282  sigma_283  \n",
       "planet_id                        \n",
       "499191466   0.000249   0.000249  \n",
       "\n",
       "[1 rows x 566 columns]"
      ]
     },
     "execution_count": 11,
     "metadata": {},
     "output_type": "execute_result"
    }
   ],
   "source": [
    "submission"
   ]
  },
  {
   "cell_type": "code",
   "execution_count": null,
   "id": "5adcadf6",
   "metadata": {
    "papermill": {
     "duration": 0.004879,
     "end_time": "2024-10-19T07:04:58.944501",
     "exception": false,
     "start_time": "2024-10-19T07:04:58.939622",
     "status": "completed"
    },
    "tags": []
   },
   "outputs": [],
   "source": []
  }
 ],
 "metadata": {
  "kaggle": {
   "accelerator": "gpu",
   "dataSources": [
    {
     "databundleVersionId": 9188054,
     "sourceId": 70367,
     "sourceType": "competition"
    }
   ],
   "dockerImageVersionId": 30746,
   "isGpuEnabled": true,
   "isInternetEnabled": false,
   "language": "python",
   "sourceType": "notebook"
  },
  "kernelspec": {
   "display_name": "Python 3",
   "language": "python",
   "name": "python3"
  },
  "language_info": {
   "codemirror_mode": {
    "name": "ipython",
    "version": 3
   },
   "file_extension": ".py",
   "mimetype": "text/x-python",
   "name": "python",
   "nbconvert_exporter": "python",
   "pygments_lexer": "ipython3",
   "version": "3.10.13"
  },
  "papermill": {
   "default_parameters": {},
   "duration": 17.796428,
   "end_time": "2024-10-19T07:04:59.367862",
   "environment_variables": {},
   "exception": null,
   "input_path": "__notebook__.ipynb",
   "output_path": "__notebook__.ipynb",
   "parameters": {},
   "start_time": "2024-10-19T07:04:41.571434",
   "version": "2.5.0"
  }
 },
 "nbformat": 4,
 "nbformat_minor": 5
}
